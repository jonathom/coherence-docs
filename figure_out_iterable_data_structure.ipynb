{
 "cells": [
  {
   "cell_type": "code",
   "execution_count": 13,
   "id": "d8c77618-0c59-4b21-91f6-fa29bc405c72",
   "metadata": {},
   "outputs": [
    {
     "name": "stdout",
     "output_type": "stream",
     "text": [
      "[     id ref_scene subswath  sce_min_burst  sce_max_burst ref_min_burst  \\\n",
      "0  0367      3F3B      IW2            1.0            2.0             1   \n",
      "1  0367      3F3B      IW3            1.0            4.0             1   \n",
      "\n",
      "  ref_max_burst  processing_status  \\\n",
      "0             2                0.0   \n",
      "1             4                0.0   \n",
      "\n",
      "                                                path  \\\n",
      "0  /data/MTDA/CGS_S1/CGS_S1_SLC_L1/IW/DV/2021/09/...   \n",
      "1  /data/MTDA/CGS_S1/CGS_S1_SLC_L1/IW/DV/2021/09/...   \n",
      "\n",
      "                                            ref_path  \n",
      "0  /data/MTDA/CGS_S1/CGS_S1_SLC_L1/IW/DV/2021/10/...  \n",
      "1  /data/MTDA/CGS_S1/CGS_S1_SLC_L1/IW/DV/2021/10/...  ,      id ref_scene subswath  sce_min_burst  sce_max_burst ref_min_burst  \\\n",
      "2  42F8      AAC4      IW1            1.0            7.0             1   \n",
      "3  42F8      AAC4      IW2            1.0            9.0             1   \n",
      "4  42F8      AAC4      IW3            1.0            9.0             1   \n",
      "\n",
      "  ref_max_burst  processing_status  \\\n",
      "2             7                0.0   \n",
      "3             9                0.0   \n",
      "4             9                0.0   \n",
      "\n",
      "                                                path  \\\n",
      "2  /data/MTDA/CGS_S1/CGS_S1_SLC_L1/IW/DV/2021/09/...   \n",
      "3  /data/MTDA/CGS_S1/CGS_S1_SLC_L1/IW/DV/2021/09/...   \n",
      "4  /data/MTDA/CGS_S1/CGS_S1_SLC_L1/IW/DV/2021/09/...   \n",
      "\n",
      "                                            ref_path  \n",
      "2  /data/MTDA/CGS_S1/CGS_S1_SLC_L1/IW/DV/2021/10/...  \n",
      "3  /data/MTDA/CGS_S1/CGS_S1_SLC_L1/IW/DV/2021/10/...  \n",
      "4  /data/MTDA/CGS_S1/CGS_S1_SLC_L1/IW/DV/2021/10/...  ,      id ref_scene subswath  sce_min_burst  sce_max_burst ref_min_burst  \\\n",
      "5  ACC4      1F6C      IW3            4.0            9.0             1   \n",
      "\n",
      "  ref_max_burst  processing_status  \\\n",
      "5             6                0.0   \n",
      "\n",
      "                                                path  \\\n",
      "5  /data/MTDA/CGS_S1/CGS_S1_SLC_L1/IW/DV/2021/09/...   \n",
      "\n",
      "                                            ref_path  \n",
      "5  /data/MTDA/CGS_S1/CGS_S1_SLC_L1/IW/DV/2021/10/...  ,      id ref_scene subswath  sce_min_burst  sce_max_burst ref_min_burst  \\\n",
      "7  F16E      1F6C      IW2            3.0            3.0             9   \n",
      "9  F16E      1F6C      IW3            1.0            3.0             7   \n",
      "\n",
      "  ref_max_burst  processing_status  \\\n",
      "7             9                0.0   \n",
      "9             9                0.0   \n",
      "\n",
      "                                                path  \\\n",
      "7  /data/MTDA/CGS_S1/CGS_S1_SLC_L1/IW/DV/2021/09/...   \n",
      "9  /data/MTDA/CGS_S1/CGS_S1_SLC_L1/IW/DV/2021/09/...   \n",
      "\n",
      "                                            ref_path  \n",
      "7  /data/MTDA/CGS_S1/CGS_S1_SLC_L1/IW/DV/2021/10/...  \n",
      "9  /data/MTDA/CGS_S1/CGS_S1_SLC_L1/IW/DV/2021/10/...  ,       id ref_scene subswath  sce_min_burst  sce_max_burst ref_min_burst  \\\n",
      "6   F16E      7E94      IW1            5.0            9.0             2   \n",
      "8   F16E      7E94      IW2            4.0            9.0             1   \n",
      "10  F16E      7E94      IW3            4.0            9.0             1   \n",
      "\n",
      "   ref_max_burst  processing_status  \\\n",
      "6              6                0.0   \n",
      "8              6                0.0   \n",
      "10             6                0.0   \n",
      "\n",
      "                                                 path  \\\n",
      "6   /data/MTDA/CGS_S1/CGS_S1_SLC_L1/IW/DV/2021/09/...   \n",
      "8   /data/MTDA/CGS_S1/CGS_S1_SLC_L1/IW/DV/2021/09/...   \n",
      "10  /data/MTDA/CGS_S1/CGS_S1_SLC_L1/IW/DV/2021/09/...   \n",
      "\n",
      "                                             ref_path  \n",
      "6   /data/MTDA/CGS_S1/CGS_S1_SLC_L1/IW/DV/2021/10/...  \n",
      "8   /data/MTDA/CGS_S1/CGS_S1_SLC_L1/IW/DV/2021/10/...  \n",
      "10  /data/MTDA/CGS_S1/CGS_S1_SLC_L1/IW/DV/2021/10/...  ]\n"
     ]
    }
   ],
   "source": [
    "import geopandas as gpd\n",
    "# load bursts we want to process\n",
    "bursts_to_process = gpd.read_file(\"/data/users/Public/jonathanbahlmann/coherence-docs/src/processing.geojson\")\n",
    "\n",
    "# go per scene to process, dissolve to extract ids\n",
    "combinations = bursts_to_process.dissolve([\"id\", \"subswath\", \"ref_scene\"], as_index = False)\n",
    "\n",
    "# print(combinations.head())\n",
    "# combinations.loc[:,[\"id\", \"ref_scene\", \"subswath\", \"sce_min_burst\", \"sce_max_burst\", \"ref_min_burst\", \"ref_max_burst\", \"processing_status\"]]\n",
    "# combinations.groupby([\"id\", \"ref_scene\"])\n",
    "\n",
    "array_of_frames = [v for k, v in combinations.loc[:,[\"id\", \"ref_scene\", \"subswath\", \"sce_min_burst\", \"sce_max_burst\", \"ref_min_burst\", \"ref_max_burst\", \"processing_status\", \"path\", \"ref_path\"]].groupby(['id', \"ref_scene\"])]\n",
    "print(array_of_frames)\n",
    "# each scene and ref_scene could be added together with merge, but not across ref_scenes probably\n",
    "\n",
    "# print(bursts_to_process.head())\n",
    "\n",
    "# bursts_to_process.iloc[0].loc[[\"subswath\", \"burst\", \"id\", \"path\", \"sensor\", \"polarizations\", \"mode\", \"orbit_dicrection\", \"rel_orbit\", \"regular_burst_pattern\", \"ref_scene\", \"ref_min_burst\", \"ref_max_burst\", \"processing_status\", \"sce_min_burst\", \"sce_max_burst\"]].to_dict()\n",
    "\n",
    "\n",
    "# out into the spark parallelizer: array of dicts? what does it need: path to scene, which subswaths to process with which ref scenes, maybe like path..., subswaths"
   ]
  },
  {
   "cell_type": "code",
   "execution_count": 11,
   "id": "d00545ca-73a4-462b-9688-f27bf1598f13",
   "metadata": {},
   "outputs": [
    {
     "data": {
      "text/html": [
       "<div>\n",
       "<style scoped>\n",
       "    .dataframe tbody tr th:only-of-type {\n",
       "        vertical-align: middle;\n",
       "    }\n",
       "\n",
       "    .dataframe tbody tr th {\n",
       "        vertical-align: top;\n",
       "    }\n",
       "\n",
       "    .dataframe thead th {\n",
       "        text-align: right;\n",
       "    }\n",
       "</style>\n",
       "<table border=\"1\" class=\"dataframe\">\n",
       "  <thead>\n",
       "    <tr style=\"text-align: right;\">\n",
       "      <th></th>\n",
       "      <th>id</th>\n",
       "      <th>subswath</th>\n",
       "      <th>burst</th>\n",
       "      <th>name</th>\n",
       "      <th>path</th>\n",
       "      <th>sensor</th>\n",
       "      <th>polarizations</th>\n",
       "      <th>start</th>\n",
       "      <th>stop</th>\n",
       "      <th>mode</th>\n",
       "      <th>product</th>\n",
       "      <th>orbit_direction</th>\n",
       "      <th>rel_orbit</th>\n",
       "      <th>regular_burst_pattern</th>\n",
       "      <th>geometry</th>\n",
       "    </tr>\n",
       "  </thead>\n",
       "  <tbody>\n",
       "    <tr>\n",
       "      <td>0</td>\n",
       "      <td>14F6</td>\n",
       "      <td>IW1</td>\n",
       "      <td>1</td>\n",
       "      <td>S1A_IW_SLC__1SDV_20211003T173237_20211003T1733...</td>\n",
       "      <td>/data/MTDA/CGS_S1/CGS_S1_SLC_L1/IW/DV/2021/10/...</td>\n",
       "      <td>S1A</td>\n",
       "      <td>VV,VH</td>\n",
       "      <td>20211003T173237</td>\n",
       "      <td>20211003T173305</td>\n",
       "      <td>IW</td>\n",
       "      <td>SLC</td>\n",
       "      <td>A</td>\n",
       "      <td>161</td>\n",
       "      <td>0</td>\n",
       "      <td>POLYGON ((4.23237702976459 48.13719918670203, ...</td>\n",
       "    </tr>\n",
       "    <tr>\n",
       "      <td>1</td>\n",
       "      <td>1F6C</td>\n",
       "      <td>IW2</td>\n",
       "      <td>9</td>\n",
       "      <td>S1A_IW_SLC__1SDV_20211002T054244_20211002T0543...</td>\n",
       "      <td>/data/MTDA/CGS_S1/CGS_S1_SLC_L1/IW/DV/2021/10/...</td>\n",
       "      <td>S1A</td>\n",
       "      <td>VV,VH</td>\n",
       "      <td>20211002T054244</td>\n",
       "      <td>20211002T054311</td>\n",
       "      <td>IW</td>\n",
       "      <td>SLC</td>\n",
       "      <td>D</td>\n",
       "      <td>139</td>\n",
       "      <td>1</td>\n",
       "      <td>POLYGON ((6.653786846332763 49.46908723759393,...</td>\n",
       "    </tr>\n",
       "    <tr>\n",
       "      <td>2</td>\n",
       "      <td>314F</td>\n",
       "      <td>IW1</td>\n",
       "      <td>1</td>\n",
       "      <td>S1A_IW_SLC__1SDV_20211003T173327_20211003T1733...</td>\n",
       "      <td>/data/MTDA/CGS_S1/CGS_S1_SLC_L1/IW/DV/2021/10/...</td>\n",
       "      <td>S1A</td>\n",
       "      <td>VV,VH</td>\n",
       "      <td>20211003T173327</td>\n",
       "      <td>20211003T173354</td>\n",
       "      <td>IW</td>\n",
       "      <td>SLC</td>\n",
       "      <td>A</td>\n",
       "      <td>161</td>\n",
       "      <td>1</td>\n",
       "      <td>POLYGON ((3.385244832548039 51.10827794247452,...</td>\n",
       "    </tr>\n",
       "    <tr>\n",
       "      <td>3</td>\n",
       "      <td>3785</td>\n",
       "      <td>IW1</td>\n",
       "      <td>1</td>\n",
       "      <td>S1A_IW_SLC__1SDV_20211012T055903_20211012T0559...</td>\n",
       "      <td>/data/MTDA/CGS_S1/CGS_S1_SLC_L1/IW/DV/2021/10/...</td>\n",
       "      <td>S1A</td>\n",
       "      <td>VV,VH</td>\n",
       "      <td>20211012T055903</td>\n",
       "      <td>20211012T055930</td>\n",
       "      <td>IW</td>\n",
       "      <td>SLC</td>\n",
       "      <td>D</td>\n",
       "      <td>110</td>\n",
       "      <td>1</td>\n",
       "      <td>POLYGON ((5.119628460479588 49.919412481546, 5...</td>\n",
       "    </tr>\n",
       "    <tr>\n",
       "      <td>4</td>\n",
       "      <td>3E65</td>\n",
       "      <td>IW1</td>\n",
       "      <td>9</td>\n",
       "      <td>S1A_IW_SLC__1SDV_20211005T060648_20211005T0607...</td>\n",
       "      <td>/data/MTDA/CGS_S1/CGS_S1_SLC_L1/IW/DV/2021/10/...</td>\n",
       "      <td>S1A</td>\n",
       "      <td>VV,VH</td>\n",
       "      <td>20211005T060648</td>\n",
       "      <td>20211005T060715</td>\n",
       "      <td>IW</td>\n",
       "      <td>SLC</td>\n",
       "      <td>D</td>\n",
       "      <td>8</td>\n",
       "      <td>1</td>\n",
       "      <td>POLYGON ((3.57576566354569 51.45992285541899, ...</td>\n",
       "    </tr>\n",
       "  </tbody>\n",
       "</table>\n",
       "</div>"
      ],
      "text/plain": [
       "     id subswath  burst                                               name  \\\n",
       "0  14F6      IW1      1  S1A_IW_SLC__1SDV_20211003T173237_20211003T1733...   \n",
       "1  1F6C      IW2      9  S1A_IW_SLC__1SDV_20211002T054244_20211002T0543...   \n",
       "2  314F      IW1      1  S1A_IW_SLC__1SDV_20211003T173327_20211003T1733...   \n",
       "3  3785      IW1      1  S1A_IW_SLC__1SDV_20211012T055903_20211012T0559...   \n",
       "4  3E65      IW1      9  S1A_IW_SLC__1SDV_20211005T060648_20211005T0607...   \n",
       "\n",
       "                                                path sensor polarizations  \\\n",
       "0  /data/MTDA/CGS_S1/CGS_S1_SLC_L1/IW/DV/2021/10/...    S1A         VV,VH   \n",
       "1  /data/MTDA/CGS_S1/CGS_S1_SLC_L1/IW/DV/2021/10/...    S1A         VV,VH   \n",
       "2  /data/MTDA/CGS_S1/CGS_S1_SLC_L1/IW/DV/2021/10/...    S1A         VV,VH   \n",
       "3  /data/MTDA/CGS_S1/CGS_S1_SLC_L1/IW/DV/2021/10/...    S1A         VV,VH   \n",
       "4  /data/MTDA/CGS_S1/CGS_S1_SLC_L1/IW/DV/2021/10/...    S1A         VV,VH   \n",
       "\n",
       "             start             stop mode product orbit_direction  rel_orbit  \\\n",
       "0  20211003T173237  20211003T173305   IW     SLC               A        161   \n",
       "1  20211002T054244  20211002T054311   IW     SLC               D        139   \n",
       "2  20211003T173327  20211003T173354   IW     SLC               A        161   \n",
       "3  20211012T055903  20211012T055930   IW     SLC               D        110   \n",
       "4  20211005T060648  20211005T060715   IW     SLC               D          8   \n",
       "\n",
       "   regular_burst_pattern                                           geometry  \n",
       "0                      0  POLYGON ((4.23237702976459 48.13719918670203, ...  \n",
       "1                      1  POLYGON ((6.653786846332763 49.46908723759393,...  \n",
       "2                      1  POLYGON ((3.385244832548039 51.10827794247452,...  \n",
       "3                      1  POLYGON ((5.119628460479588 49.919412481546, 5...  \n",
       "4                      1  POLYGON ((3.57576566354569 51.45992285541899, ...  "
      ]
     },
     "execution_count": 11,
     "metadata": {},
     "output_type": "execute_result"
    }
   ],
   "source": [
    "reference_scenes.head()"
   ]
  },
  {
   "cell_type": "code",
   "execution_count": 26,
   "id": "f3f02ab1-2718-4806-9fbb-f54b8949f908",
   "metadata": {},
   "outputs": [
    {
     "ename": "IndexError",
     "evalue": "list assignment index out of range",
     "output_type": "error",
     "traceback": [
      "\u001b[0;31m---------------------------------------------------------------------------\u001b[0m",
      "\u001b[0;31mIndexError\u001b[0m                                Traceback (most recent call last)",
      "\u001b[0;32m<ipython-input-26-fb1c9edf599d>\u001b[0m in \u001b[0;36m<module>\u001b[0;34m\u001b[0m\n\u001b[1;32m      1\u001b[0m \u001b[0mdic\u001b[0m\u001b[0;34m[\u001b[0m\u001b[0;34m\"path\"\u001b[0m\u001b[0;34m]\u001b[0m\u001b[0;34m\u001b[0m\u001b[0;34m\u001b[0m\u001b[0m\n\u001b[1;32m      2\u001b[0m \u001b[0mdic\u001b[0m\u001b[0;34m[\u001b[0m\u001b[0;34m\"subswaths\"\u001b[0m\u001b[0;34m]\u001b[0m\u001b[0;34m[\u001b[0m\u001b[0;36m0\u001b[0m\u001b[0;34m]\u001b[0m\u001b[0;34m[\u001b[0m\u001b[0;34m\"IW1\"\u001b[0m\u001b[0;34m]\u001b[0m\u001b[0;34m[\u001b[0m\u001b[0;34m\"ref\"\u001b[0m\u001b[0;34m]\u001b[0m\u001b[0;34m\u001b[0m\u001b[0;34m\u001b[0m\u001b[0m\n\u001b[0;32m----> 3\u001b[0;31m \u001b[0mdic\u001b[0m\u001b[0;34m[\u001b[0m\u001b[0;34m\"subswaths\"\u001b[0m\u001b[0;34m]\u001b[0m\u001b[0;34m[\u001b[0m\u001b[0;36m2\u001b[0m\u001b[0;34m]\u001b[0m \u001b[0;34m=\u001b[0m \u001b[0;34m{\u001b[0m\u001b[0;34m\"test\"\u001b[0m\u001b[0;34m:\u001b[0m \u001b[0;34m\"hi\"\u001b[0m\u001b[0;34m}\u001b[0m\u001b[0;34m\u001b[0m\u001b[0;34m\u001b[0m\u001b[0m\n\u001b[0m",
      "\u001b[0;31mIndexError\u001b[0m: list assignment index out of range"
     ]
    }
   ],
   "source": [
    "dic[\"path\"]\n",
    "dic[\"subswaths\"][0][\"IW1\"][\"ref\"]\n",
    "dic[\"subswaths\"][2] = {\"test\": \"hi\"}"
   ]
  },
  {
   "cell_type": "code",
   "execution_count": 38,
   "id": "59e25d90-b9fa-4194-a52f-eb958a265e76",
   "metadata": {},
   "outputs": [
    {
     "ename": "TypeError",
     "evalue": "'set' object does not support item assignment",
     "output_type": "error",
     "traceback": [
      "\u001b[0;31m---------------------------------------------------------------------------\u001b[0m",
      "\u001b[0;31mTypeError\u001b[0m                                 Traceback (most recent call last)",
      "\u001b[0;32m<ipython-input-38-ddb1b755cf81>\u001b[0m in \u001b[0;36m<module>\u001b[0;34m\u001b[0m\n\u001b[1;32m      1\u001b[0m \u001b[0md\u001b[0m \u001b[0;34m=\u001b[0m \u001b[0;34m{\u001b[0m\u001b[0;34m\"path\"\u001b[0m\u001b[0;34m,\u001b[0m \u001b[0;34m\"fg\"\u001b[0m \u001b[0;34m}\u001b[0m\u001b[0;34m\u001b[0m\u001b[0;34m\u001b[0m\u001b[0m\n\u001b[0;32m----> 2\u001b[0;31m \u001b[0md\u001b[0m\u001b[0;34m[\u001b[0m\u001b[0;34m\"path\"\u001b[0m\u001b[0;34m]\u001b[0m \u001b[0;34m=\u001b[0m \u001b[0;34m\"fr\"\u001b[0m\u001b[0;34m\u001b[0m\u001b[0;34m\u001b[0m\u001b[0m\n\u001b[0m\u001b[1;32m      3\u001b[0m \u001b[0md\u001b[0m\u001b[0;34m\u001b[0m\u001b[0;34m\u001b[0m\u001b[0m\n",
      "\u001b[0;31mTypeError\u001b[0m: 'set' object does not support item assignment"
     ]
    }
   ],
   "source": [
    "d = {\"path\", \"fg\" }\n",
    "d[\"path\"] = \"fr\"\n",
    "d"
   ]
  },
  {
   "cell_type": "code",
   "execution_count": 16,
   "id": "5db931f5-3e5c-4a36-b6b4-910151b70dea",
   "metadata": {},
   "outputs": [
    {
     "name": "stdout",
     "output_type": "stream",
     "text": [
      "/data/MTDA/CGS_S1/CGS_S1_SLC_L1/IW/DV/2020/12/30\n",
      "/data/MTDA/CGS_S1/CGS_S1_SLC_L1/IW/DV/2020/12/31\n",
      "/data/MTDA/CGS_S1/CGS_S1_SLC_L1/IW/DV/2021/01/02\n",
      "/data/MTDA/CGS_S1/CGS_S1_SLC_L1/IW/DV/2021/01/01\n"
     ]
    }
   ],
   "source": [
    "start_date = \"2020/12/31\"\n",
    "#str(root / start_date.strftime(\"%Y/%m/%d\"))\n",
    "from pathlib import Path\n",
    "import datetime\n",
    "import glob\n",
    "start_date = datetime.datetime.strptime(\"2020/12/30\", \"%Y/%m/%d\")\n",
    "end_date = datetime.datetime.strptime(\"2021/01/03\", \"%Y/%m/%d\")\n",
    "\n",
    "root = Path(\"/data/MTDA/CGS_S1/CGS_S1_SLC_L1/IW/DV/\")\n",
    "start_dir = str(root / start_date.strftime(\"%Y/%m/%d\"))\n",
    "end_dir = str(root / end_date.strftime(\"%Y/%m/%d\"))\n",
    "\n",
    "list_of_products = []\n",
    "for year in range(start_date.year, end_date.year + 1):\n",
    "    year_path = root / str(year)\n",
    "    for day_dir in year_path.glob(\"[01][0123456789]/[0123][0123456789]\"):\n",
    "        if start_dir <= str(day_dir) < end_dir:\n",
    "            print(day_dir)"
   ]
  },
  {
   "cell_type": "code",
   "execution_count": 3,
   "id": "e1eea61c-fdb2-492c-b50e-442c71ea5321",
   "metadata": {},
   "outputs": [
    {
     "data": {
      "text/plain": [
       "PosixPath('/data/users/Public/jonathanbahlmann/coherence-docs')"
      ]
     },
     "execution_count": 3,
     "metadata": {},
     "output_type": "execute_result"
    }
   ],
   "source": [
    "from src.util import list_products_by_time\n",
    "start = \"2017/06/28\"\n",
    "end = \"2017/07/03\"\n",
    "path = \"/data/MTDA/CGS_S1/CGS_S1_SLC_L1/IW/DV/\"\n",
    "expected = 18 # usually 18\n",
    "products = list_products_by_time(start, end, path)\n",
    "# products\n",
    "\n",
    "import pathlib\n",
    " \n",
    "path = pathlib.Path('.')\n",
    "full_path = path.absolute()\n",
    " \n",
    "my_path = full_path.as_posix()\n",
    "full_path\n",
    " "
   ]
  },
  {
   "cell_type": "code",
   "execution_count": 20,
   "id": "acad2611-c6f0-40f1-bf88-0dd2cfb71f16",
   "metadata": {},
   "outputs": [
    {
     "name": "stdout",
     "output_type": "stream",
     "text": [
      "{}\n"
     ]
    },
    {
     "name": "stderr",
     "output_type": "stream",
     "text": [
      "/usr/local/lib/python3.6/site-packages/geopandas/base.py:35: UserWarning: GeoSeries crs mismatch: {'init': 'epsg:4326'} and EPSG:4326\n",
      "  right.crs))\n"
     ]
    },
    {
     "ename": "AssertionError",
     "evalue": "",
     "output_type": "error",
     "traceback": [
      "\u001b[0;31m---------------------------------------------------------------------------\u001b[0m",
      "\u001b[0;31mAssertionError\u001b[0m                            Traceback (most recent call last)",
      "\u001b[0;32m<ipython-input-20-50b9b65a3ee3>\u001b[0m in \u001b[0;36m<module>\u001b[0;34m\u001b[0m\n\u001b[1;32m      6\u001b[0m \u001b[0mreferences\u001b[0m \u001b[0;34m=\u001b[0m \u001b[0msearch_for_reference\u001b[0m\u001b[0;34m(\u001b[0m\u001b[0mscene_gpd\u001b[0m\u001b[0;34m,\u001b[0m \u001b[0mref_gpd\u001b[0m\u001b[0;34m)\u001b[0m\u001b[0;34m\u001b[0m\u001b[0;34m\u001b[0m\u001b[0m\n\u001b[1;32m      7\u001b[0m \u001b[0mprint\u001b[0m\u001b[0;34m(\u001b[0m\u001b[0mreferences\u001b[0m\u001b[0;34m)\u001b[0m\u001b[0;34m\u001b[0m\u001b[0;34m\u001b[0m\u001b[0m\n\u001b[0;32m----> 8\u001b[0;31m \u001b[0;32massert\u001b[0m \u001b[0mreferences\u001b[0m \u001b[0;34m==\u001b[0m \u001b[0;34m[\u001b[0m\u001b[0;34m]\u001b[0m\u001b[0;34m\u001b[0m\u001b[0;34m\u001b[0m\u001b[0m\n\u001b[0m",
      "\u001b[0;31mAssertionError\u001b[0m: "
     ]
    }
   ],
   "source": [
    "from src.util import search_for_reference, create_gpd_for_scene\n",
    "import geopandas as gpd\n",
    "\n",
    "scene_gpd = create_gpd_for_scene(path = \"/data/MTDA/CGS_S1/CGS_S1_SLC_L1/IW/DV/2021/04/17/S1B_IW_SLC__1SDV_20210417T174054_20210417T174130_026510_032A4B_DA8B/S1B_IW_SLC__1SDV_20210417T174054_20210417T174130_026510_032A4B_DA8B.zip\")\n",
    "ref_gpd = gpd.read_file(\"src/reference_bursts.geojson\")\n",
    "references = search_for_reference(scene_gpd, ref_gpd)\n",
    "print(references)\n",
    "assert references == []"
   ]
  },
  {
   "cell_type": "code",
   "execution_count": null,
   "id": "b542323d-30dd-4a17-8bfb-b1155f782901",
   "metadata": {},
   "outputs": [],
   "source": []
  }
 ],
 "metadata": {
  "kernelspec": {
   "display_name": "Python 3",
   "language": "python",
   "name": "python3"
  },
  "language_info": {
   "codemirror_mode": {
    "name": "ipython",
    "version": 3
   },
   "file_extension": ".py",
   "mimetype": "text/x-python",
   "name": "python",
   "nbconvert_exporter": "python",
   "pygments_lexer": "ipython3",
   "version": "3.6.8"
  }
 },
 "nbformat": 4,
 "nbformat_minor": 5
}

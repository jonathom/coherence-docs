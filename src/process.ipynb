{
 "cells": [
  {
   "cell_type": "code",
   "execution_count": 12,
   "id": "5ac64466-75da-4301-a478-605661923996",
   "metadata": {},
   "outputs": [
    {
     "name": "stdout",
     "output_type": "stream",
     "text": [
      "1D7F 3785 IW1\n",
      "1D7F 3785 IW2\n",
      "1D7F 3785 IW3\n",
      "1D7F 6471 IW1\n",
      "1D7F 6471 IW2\n",
      "1D7F 6471 IW3\n",
      "3C31 3785 IW1\n",
      "3C31 3785 IW2\n",
      "3C31 3785 IW3\n",
      "3C31 ACC4 IW1\n",
      "3C31 ACC4 IW2\n",
      "3C31 ACC4 IW3\n"
     ]
    }
   ],
   "source": [
    "# step 3: preprocessing pipeline\n",
    "\n",
    "import geopandas as gpd\n",
    "from util import *\n",
    "import sys, os\n",
    "\n",
    "proc_file = \"processing.geojson\"\n",
    "proc_gpd = gpd.read_file(proc_file)\n",
    "\n",
    "ref_gpd = gpd.read_file(\"reference_bursts.geojson\")\n",
    "\n",
    "proc_subswaths = proc_gpd.dissolve([\"id\", \"ref_scene\", \"subswath\"], as_index = False)\n",
    "\n",
    "# show needed coregistration processes, except that subswaths can be merged\n",
    "for i, subscene in proc_subswaths.iterrows():\n",
    "    secondary_id = subscene.loc[\"id\"]\n",
    "    reference_id = subscene.loc[\"ref_scene\"]\n",
    "    subswath = subscene.loc[\"subswath\"]\n",
    "    print(secondary_id, reference_id, subswath)"
   ]
  },
  {
   "cell_type": "code",
   "execution_count": null,
   "id": "b689f9df-78ae-47de-b371-d91b6e830b12",
   "metadata": {},
   "outputs": [],
   "source": []
  }
 ],
 "metadata": {
  "kernelspec": {
   "display_name": "Python 3",
   "language": "python",
   "name": "python3"
  },
  "language_info": {
   "codemirror_mode": {
    "name": "ipython",
    "version": 3
   },
   "file_extension": ".py",
   "mimetype": "text/x-python",
   "name": "python",
   "nbconvert_exporter": "python",
   "pygments_lexer": "ipython3",
   "version": "3.6.8"
  }
 },
 "nbformat": 4,
 "nbformat_minor": 5
}

{
 "cells": [
  {
   "cell_type": "code",
   "execution_count": 2,
   "id": "d58bb923-5f27-4e4d-a3a6-281d240734de",
   "metadata": {},
   "outputs": [],
   "source": [
    "from terracatalogueclient import Catalogue\n",
    "import datetime as dt\n",
    "import glob\n",
    "import pandas as pd\n",
    "import geopandas as gpd\n",
    "import sys, os\n",
    "\n",
    "from util import suppress_stdout, create_gpd_for_scene"
   ]
  },
  {
   "cell_type": "code",
   "execution_count": 43,
   "id": "bcb6103b-e1b9-4d34-8e4d-18e3c49239ac",
   "metadata": {},
   "outputs": [
    {
     "name": "stdout",
     "output_type": "stream",
     "text": [
      "starting search for scenes...\n",
      "scene  1D76 , IW3, has  10  bursts.\n",
      "scene  0A0F , IW2, has  10  bursts.\n",
      "scene  B9E7 , IW3, has  10  bursts.\n",
      "scene  9046 , IW2, has  10  bursts.\n",
      "scene  83DA , IW1, has  12  bursts.\n",
      "scene  83DA , IW2, has  12  bursts.\n",
      "scene  83DA , IW3, has  13  bursts.\n",
      "scene  E320 , IW1, has  10  bursts.\n",
      "end\n"
     ]
    }
   ],
   "source": [
    "# input time frame in which reference scenes should be defined\n",
    "# this should be no longer than 12 days! after 12 days, orbits of a single satellite repeat and ambiguities arise\n",
    "# My use case was to collect the base scenes from 1.10 - 12.10.2021, and to add some scenes over france from oct 2020 later on\n",
    "start = dt.date(2020, 10, 1)\n",
    "end = dt.date(2020, 10, 13)\n",
    "\n",
    "aoi_file = \"/home/jonathanbahlmann/Public/coherence-docs/aoi/belgium_france.geojson\"\n",
    "aoi = gpd.read_file(aoi_file)\n",
    "\n",
    "ref_inter_bursts_file = \"/home/jonathanbahlmann/Public/coherence-docs/src/reference_bursts.geojson\"\n",
    "\n",
    "if os.path.isfile(ref_inter_bursts_file):\n",
    "    ref_inter_bursts = gpd.read_file(ref_inter_bursts_file)\n",
    "    create_new_file = False\n",
    "else:\n",
    "    print(\"ref_inter_bursts_file not found\")\n",
    "    create_new_file = True\n",
    "\n",
    "print(\"starting search for scenes...\")\n",
    "\n",
    "catalogue = Catalogue()\n",
    "\n",
    "cat = catalogue.get_products(\n",
    "\t\"urn:eop:VITO:CGS_S1_SLC_L1\",\n",
    "\tstart = start,\n",
    "\tend = end\n",
    "    # , geometry =  WKT string or shapely geom\n",
    ")\n",
    "\n",
    "s1a = []\n",
    "\n",
    "for p in cat:\n",
    "    path = p.data[0].href \n",
    "    iw_index = path.index(\"IW\")\n",
    "    vm_path = \"/data/MTDA/CGS_S1/CGS_S1_SLC_L1/\" + path[iw_index:]\n",
    "\n",
    "    # make swath geometry and add basic info to df\n",
    "    ana_split = create_gpd_for_scene(vm_path, make_regular = True)\n",
    "    \n",
    "    # append to list based on satellite\n",
    "    if ana_split[\"sensor\"].iloc[0] == \"S1A\":\n",
    "        \n",
    "        # AOI INTERSECTION\n",
    "        # create boolean of which bursts intersect with aoi and which dont\n",
    "        intersects = ana_split.intersects(aoi.iloc[0][\"geometry\"])\n",
    "        # keep only those bursts that intersect with aoi\n",
    "        intersecting_bursts = ana_split[intersects]\n",
    "        \n",
    "        if not intersecting_bursts.empty:\n",
    "\n",
    "            # CHECK IF EXISTS\n",
    "            rel_o = intersecting_bursts.iloc[0][\"rel_orbit\"]\n",
    "            o_dir = intersecting_bursts.iloc[0][\"orbit_direction\"]\n",
    "            \n",
    "            # if a file already exists\n",
    "            if not create_new_file:\n",
    "                # search in existing table for bursts of the same relative orbit and orbit direction\n",
    "                check = ref_inter_bursts.loc[(ref_inter_bursts[\"rel_orbit\"] == rel_o) & (ref_inter_bursts[\"orbit_direction\"] == o_dir)]\n",
    "                # if some are found:\n",
    "                if not check.empty:\n",
    "                    # intersect with the new bursts\n",
    "                    intersec = gpd.overlay(intersecting_bursts, check, how = \"intersection\") # .to_file(\"intersection_test_\" + ana_split.iloc[0][\"id\"] + \".geojson\", driver = \"GeoJSON\")\n",
    "                    intersec[\"area\"] = intersec.to_crs({'init': 'epsg:32631'}).area\n",
    "                    # calculate the overall intersecting area\n",
    "                    intersec_area = intersec[\"area\"].sum()\n",
    "                else:\n",
    "                    # if none are found, intersecting area is 0\n",
    "                    intersec_area = 0\n",
    "\n",
    "                # calculate area of new bursts\n",
    "                new_scene_area = intersecting_bursts.to_crs({'init': 'epsg:32631'}).area.sum()\n",
    "                # calculate ratio between the two areas\n",
    "                ratio = intersec_area / new_scene_area\n",
    "                \n",
    "            # otherwise add all, of course\n",
    "            else:\n",
    "                ratio = 0\n",
    "            \n",
    "            if ratio < 0.9:\n",
    "                s1a.append(intersecting_bursts)\n",
    "\n",
    "if s1a:\n",
    "    s1a_df = gpd.GeoDataFrame(pd.concat(s1a, ignore_index = True), crs=s1a[0].crs)\n",
    "    \n",
    "    # if a file exists, add to it and rewrite\n",
    "    if not create_new_file:\n",
    "        print(len(s1a_df), \" bursts added.\")\n",
    "        s1a_df = ref_inter_bursts.append(s1a_df, sort = False)\n",
    "    else:\n",
    "        print(len(s1a_df), \" bursts found.\")\n",
    "\n",
    "    # create empty dictionairy for the mapping ID - frame number\n",
    "    relative_frames = {}\n",
    "    # initiate column\n",
    "    s1a_df[\"rel_frame\"] = 0\n",
    "    # init frame number\n",
    "    fnr = int(1)\n",
    "\n",
    "    # TODO heard that iterrows() is slow, not sure how I could improve here\n",
    "    for index, row in s1a_df.iterrows():\n",
    "        if row[\"id\"] in relative_frames:\n",
    "            s1a_df.at[index, \"rel_frame\"] = relative_frames[row[\"id\"]]\n",
    "        else:\n",
    "            s1a_df.at[index, \"rel_frame\"] = fnr\n",
    "            relative_frames[row[\"id\"]] = fnr\n",
    "            fnr += 1\n",
    "\n",
    "    # write bursts\n",
    "    s1a_df.to_file(\"reference_bursts.geojson\", driver = \"GeoJSON\")\n",
    "    # extract scenes and write\n",
    "    s1a_df.dissolve([\"id\"], as_index = False).to_file(\"reference_scenes.geojson\", driver = \"GeoJSON\")\n",
    "    \n",
    "elif not s1a:\n",
    "    print(\"nothing added\")\n",
    "else:\n",
    "    print(\"error\")\n",
    "\n",
    "# gpd.overlay(aoi, s1a_df, how = \"intersection\").to_file(\"test2.geojson\", driver = \"GeoJSON\")\n",
    "\n",
    "print(\"end\")"
   ]
  },
  {
   "cell_type": "code",
   "execution_count": null,
   "id": "9f8850da-db2a-4a26-869f-29e7cf9289cb",
   "metadata": {},
   "outputs": [],
   "source": [
    "dic = {\"hi\": 6}\n",
    "print(dic[\"hi\"])"
   ]
  },
  {
   "cell_type": "code",
   "execution_count": null,
   "id": "4c7c4081-22ad-4b82-bc81-a817ea5b8761",
   "metadata": {},
   "outputs": [],
   "source": [
    "with len([8,9,7]) as l:\n",
    "    print(l)"
   ]
  },
  {
   "cell_type": "code",
   "execution_count": 31,
   "id": "966335bf-719b-4b90-bb63-0191c1ab32c4",
   "metadata": {},
   "outputs": [
    {
     "name": "stdout",
     "output_type": "stream",
     "text": [
      "b\n"
     ]
    }
   ],
   "source": [
    "gh = [5,6]\n",
    "if gh:\n",
    "    print(\"b\")\n",
    "else:\n",
    "    print(\"j\")"
   ]
  },
  {
   "cell_type": "code",
   "execution_count": 38,
   "id": "22830b61-b329-4a13-99ff-c55e49551953",
   "metadata": {},
   "outputs": [
    {
     "ename": "NameError",
     "evalue": "name 'g' is not defined",
     "output_type": "error",
     "traceback": [
      "\u001b[0;31m---------------------------------------------------------------------------\u001b[0m",
      "\u001b[0;31mNameError\u001b[0m                                 Traceback (most recent call last)",
      "\u001b[0;32m<ipython-input-38-aa8307dbe247>\u001b[0m in \u001b[0;36m<module>\u001b[0;34m\u001b[0m\n\u001b[0;32m----> 1\u001b[0;31m \u001b[0;32mif\u001b[0m \u001b[0mg\u001b[0m\u001b[0;34m:\u001b[0m\u001b[0;34m\u001b[0m\u001b[0;34m\u001b[0m\u001b[0m\n\u001b[0m\u001b[1;32m      2\u001b[0m     \u001b[0mprint\u001b[0m\u001b[0;34m(\u001b[0m\u001b[0;34m\"d\"\u001b[0m\u001b[0;34m)\u001b[0m\u001b[0;34m\u001b[0m\u001b[0;34m\u001b[0m\u001b[0m\n",
      "\u001b[0;31mNameError\u001b[0m: name 'g' is not defined"
     ]
    }
   ],
   "source": [
    "if g:\n",
    "    print(\"d\")"
   ]
  },
  {
   "cell_type": "code",
   "execution_count": null,
   "id": "0b33fab3-cef6-4cac-afb1-e56d2677beb5",
   "metadata": {},
   "outputs": [],
   "source": []
  }
 ],
 "metadata": {
  "kernelspec": {
   "display_name": "Python 3",
   "language": "python",
   "name": "python3"
  },
  "language_info": {
   "codemirror_mode": {
    "name": "ipython",
    "version": 3
   },
   "file_extension": ".py",
   "mimetype": "text/x-python",
   "name": "python",
   "nbconvert_exporter": "python",
   "pygments_lexer": "ipython3",
   "version": "3.6.8"
  }
 },
 "nbformat": 4,
 "nbformat_minor": 5
}

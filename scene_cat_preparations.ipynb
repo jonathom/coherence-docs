{
 "cells": [
  {
   "cell_type": "code",
   "execution_count": 1,
   "id": "eb62465d-9eb2-4561-bb29-910e1bab8f5f",
   "metadata": {},
   "outputs": [],
   "source": [
    "# query Terrascope archive using terracatalgoueclient\n",
    "from terracatalogueclient import Catalogue\n",
    "import datetime as dt\n",
    "\n",
    "# processes only VV\n",
    "\n",
    "# define name of result\n",
    "name = \"testRun_01\"\n",
    "\n",
    "catalogue = Catalogue()"
   ]
  },
  {
   "cell_type": "code",
   "execution_count": 2,
   "id": "04f4277c-c617-422a-9ae6-fd30fe8faa54",
   "metadata": {},
   "outputs": [
    {
     "name": "stdout",
     "output_type": "stream",
     "text": [
      "[CATALOGUE]: starting search for scenes...\n",
      "POLYGON ((7.605903 51.141376, 8.148488 52.759369, 4.297474 53.172043, 3.894983 51.550926, 7.605903 51.141376))\n",
      "POLYGON ((7.129499 49.65831, 7.649 51.277603, 3.927435 51.687271, 3.53682 50.065575, 7.129499 49.65831))\n",
      "POLYGON ((6.671979 48.173637, 7.171072 49.794495, 3.568414 50.201855, 3.188162 48.579235, 6.671979 48.173637))\n"
     ]
    }
   ],
   "source": [
    "# give one date, find closest acqusition before and after\n",
    "start = dt.date(2021, 10, 1) # input\n",
    "end = dt.date(2021, 10, 2)\n",
    "\n",
    "print(\"[CATALOGUE]: starting search for scenes...\")\n",
    "\n",
    "# first search\n",
    "cat = catalogue.get_products(\n",
    "\t\"urn:eop:VITO:CGS_S1_SLC_L1\",\n",
    "\tstart = start,\n",
    "\tend = end\n",
    ")\n",
    "\n",
    "for prod in cat:\n",
    "    print(prod.geometry)"
   ]
  },
  {
   "cell_type": "code",
   "execution_count": 1,
   "id": "86dd7164-235d-42af-a3ec-34046013f57d",
   "metadata": {},
   "outputs": [],
   "source": [
    "import glob\n",
    "from pyroSAR import identify\n",
    "import stsa\n",
    "import pandas as pd\n",
    "import sys, os\n",
    "from contextlib import contextmanager\n",
    "import geopandas as gpd\n",
    "\n",
    "@contextmanager\n",
    "def suppress_stdout():\n",
    "    # source http://thesmithfam.org/blog/2012/10/25/temporarily-suppress-console-output-in-python/\n",
    "    with open(os.devnull, \"w\") as devnull:\n",
    "        old_stdout = sys.stdout\n",
    "        sys.stdout = devnull\n",
    "        try:  \n",
    "            yield\n",
    "        finally:\n",
    "            sys.stdout = old_stdout"
   ]
  },
  {
   "cell_type": "code",
   "execution_count": 2,
   "id": "e5b0c883-04ff-4bd3-89b3-d8fb5a93b14b",
   "metadata": {},
   "outputs": [
    {
     "ename": "SyntaxError",
     "evalue": "invalid syntax (<ipython-input-2-39a3d795410a>, line 31)",
     "output_type": "error",
     "traceback": [
      "\u001b[0;36m  File \u001b[0;32m\"<ipython-input-2-39a3d795410a>\"\u001b[0;36m, line \u001b[0;32m31\u001b[0m\n\u001b[0;31m    stsa_geom[\"path\"] =\u001b[0m\n\u001b[0m                        ^\u001b[0m\n\u001b[0;31mSyntaxError\u001b[0m\u001b[0;31m:\u001b[0m invalid syntax\n"
     ]
    }
   ],
   "source": [
    "file_list = glob.glob(\"/data/MTDA/CGS_S1/CGS_S1_SLC_L1/IW/DV/2021/10/05/*/*.zip\")\n",
    "\n",
    "# load master dataframe\n",
    "scene_proc = pd.read_pickle(\"scene_processing.pkl\")\n",
    "# print(scene_proc)\n",
    "\n",
    "# make list to add to dataframe\n",
    "meta_list = []\n",
    "\n",
    "for e in file_list:\n",
    "    name = e[e.rfind(\"/\")+1:len(e)-4] # extract product name from path\n",
    "    if not name in scene_proc[\"name\"].values:\n",
    "        # print(\"found new scene\")\n",
    "        # use pyroSAR to extract metadata\n",
    "        pyro = identify(e)\n",
    "\n",
    "        # make a dict\n",
    "        meta = {\"name\": name, \"path\": e, \"sensor\": pyro.sensor, \n",
    "                \"polarizations\": pyro.polarizations, \"start\": pyro.start, \"stop\": pyro.stop, \n",
    "                \"mode\": pyro.acquisition_mode, \"product\": pyro.product,\n",
    "                \"orbit_direction\": pyro.orbit, \"rel_orbit\": pyro.orbitNumber_rel}\n",
    "\n",
    "        # use stsa to create swath geometry\n",
    "        stsa_geom = stsa.TopsSplitAnalyzer(target_subswaths=['iw1', 'iw2', 'iw3'])\n",
    "        with suppress_stdout():\n",
    "            stsa_geom.load_data(zip_path = e)\n",
    "            stsa_geom._create_subswath_geometry()\n",
    "            \n",
    "        stsa_geom = stsa_geom.df\n",
    "        stsa_geom[\"name\"] = name\n",
    "        stsa_geom[\"path\"] = \n",
    "        print(stsa_geom)\n",
    "        \n",
    "        # check whether the scene has a regular burst pattern (no missing, no additional bursts)\n",
    "        if stsa_geom.df.loc[:,\"burst\"].to_list() == [1,2,3,4,5,6,7,8,9,1,2,3,4,5,6,7,8,9,1,2,3,4,5,6,7,8,9]:\n",
    "            meta[\"regular_burst_pattern\"] = 1\n",
    "        else:\n",
    "            meta[\"regular_burst_pattern\"] = 0\n",
    "\n",
    "        # add swath/burst geometry to metadata\n",
    "        meta[\"geometry\"] = stsa_geom.df\n",
    "        # append to list\n",
    "        meta_list.append(meta)\n",
    "        \n",
    "        for i, row in scene_proc.iterrows():\n",
    "            print(row[\"geometry\"])\n",
    "            # TODO calc overlap etc.\n",
    "        \n",
    "    else:\n",
    "        pass\n",
    "        # print(\"old scene\")\n",
    "    \n",
    "    \n",
    "    \n",
    "# print(set(pd.DataFrame(meta_list)[\"rel_orbit\"].to_list()))\n",
    "# orbits of the year 2021 are {1, 161, 37, 101, 8, 137, 139, 110, 88, 59}\n",
    "meta_df = pd.DataFrame(meta_list)\n",
    "# scene_proc = scene_proc.append(meta_df)\n",
    "scene_proc.to_pickle(\"scene_processing.pkl\")"
   ]
  },
  {
   "cell_type": "code",
   "execution_count": 8,
   "id": "8ea9e115-9b88-47ef-8744-065c59352862",
   "metadata": {},
   "outputs": [],
   "source": [
    "def create_gpd_for_scene(path, id, name):\n",
    "    # use pyroSAR to extract metadata\n",
    "    pyro = identify(path)\n",
    "\n",
    "    # use stsa to create swath geometry\n",
    "    stsa_geom = stsa.TopsSplitAnalyzer(target_subswaths=['iw1', 'iw2', 'iw3'])\n",
    "    with suppress_stdout():\n",
    "        stsa_geom.load_data(zip_path = path)\n",
    "        stsa_geom._create_subswath_geometry()\n",
    "\n",
    "    # add attributes to bursts\n",
    "    stsa_geom = stsa_geom.df\n",
    "    stsa_geom[\"id\"] = id\n",
    "    stsa_geom[\"name\"] = name\n",
    "    stsa_geom[\"path\"] = path\n",
    "    stsa_geom[\"sensor\"] = pyro.sensor\n",
    "    #stsa_geom[\"polarizations\"] = pyro.polarizations\n",
    "    stsa_geom[\"start\"] = pyro.start\n",
    "    stsa_geom[\"stop\"] = pyro.stop\n",
    "    stsa_geom[\"mode\"] = pyro.acquisition_mode\n",
    "    stsa_geom[\"product\"] = pyro.product\n",
    "    stsa_geom[\"orbit_direction\"] = pyro.orbit\n",
    "    stsa_geom[\"rel_orbit\"] = pyro.orbitNumber_rel\n",
    "\n",
    "    # check whether the scene has a regular burst pattern (no missing, no additional bursts)\n",
    "    if stsa_geom.loc[:,\"burst\"].to_list() == [1,2,3,4,5,6,7,8,9,1,2,3,4,5,6,7,8,9,1,2,3,4,5,6,7,8,9]:\n",
    "        stsa_geom[\"regular_burst_pattern\"] = 1\n",
    "    else:\n",
    "        stsa_geom[\"regular_burst_pattern\"] = 0\n",
    "\n",
    "    # TODO calc overlap etc.\n",
    "        \n",
    "    return(stsa_geom)\n",
    "\n",
    "# introduce geojson\n",
    "file_list = glob.glob(\"/data/MTDA/CGS_S1/CGS_S1_SLC_L1/IW/DV/2021/10/03/*/*.zip\")\n",
    "\n",
    "# load main dataframe\n",
    "if os.path.isfile(\"scene_processing.geojson\"):\n",
    "    all_scenes = gpd.read_file(\"scene_processing.geojson\")\n",
    "    create_new_file = False\n",
    "else:\n",
    "    print(\"scene_processing.geojson not found\")\n",
    "    create_new_file = True\n",
    "\n",
    "new_list = []\n",
    "\n",
    "for path in file_list:\n",
    "    name = path[path.rfind(\"/\")+1:len(path)-4] # extract product name from path\n",
    "    id = name[len(name)-4:len(name)]\n",
    "    \n",
    "    if create_new_file:\n",
    "        stsa_geom = create_gpd_for_scene(path, id, name)\n",
    "        # append to geodataframe list\n",
    "        new_list.append(stsa_geom)\n",
    "    \n",
    "    elif not id in all_scenes[\"id\"].values:\n",
    "        # print(\"found new scene\")\n",
    "        stsa_geom = create_gpd_for_scene(path, id, name)\n",
    "\n",
    "        # append to geodataframe list\n",
    "        new_list.append(stsa_geom)\n",
    "        \n",
    "    else:\n",
    "        pass\n",
    "        # print(\"old scene\")\n",
    "    \n",
    "    \n",
    "    \n",
    "# print(set(pd.DataFrame(meta_list)[\"rel_orbit\"].to_list()))\n",
    "# orbits of the year 2021 are {1, 161, 37, 101, 8, 137, 139, 110, 88, 59}\n",
    "new_df = gpd.GeoDataFrame(pd.concat(new_list, ignore_index=True), crs=new_list[0].crs)\n",
    "if not create_new_file:\n",
    "    all_scenes = all_scenes.append(new_df)\n",
    "else:\n",
    "    all_scenes = new_df\n",
    "\n",
    "all_scenes.to_file(\"scene_processing.geojson\", driver='GeoJSON')\n",
    "#scene_proc.to_pickle(\"scene_processing.pkl\")"
   ]
  },
  {
   "cell_type": "code",
   "execution_count": 19,
   "id": "71e0a12c-927b-4ea2-b816-07aa11a338eb",
   "metadata": {},
   "outputs": [
    {
     "name": "stdout",
     "output_type": "stream",
     "text": [
      "file not found\n"
     ]
    },
    {
     "ename": "NameError",
     "evalue": "name 'scene_procd' is not defined",
     "output_type": "error",
     "traceback": [
      "\u001b[0;31m---------------------------------------------------------------------------\u001b[0m",
      "\u001b[0;31mNameError\u001b[0m                                 Traceback (most recent call last)",
      "\u001b[0;32m<ipython-input-19-46d76f35a702>\u001b[0m in \u001b[0;36m<module>\u001b[0;34m\u001b[0m\n\u001b[1;32m      4\u001b[0m \u001b[0;32melse\u001b[0m\u001b[0;34m:\u001b[0m\u001b[0;34m\u001b[0m\u001b[0;34m\u001b[0m\u001b[0m\n\u001b[1;32m      5\u001b[0m     \u001b[0mprint\u001b[0m\u001b[0;34m(\u001b[0m\u001b[0;34m\"file not found\"\u001b[0m\u001b[0;34m)\u001b[0m\u001b[0;34m\u001b[0m\u001b[0;34m\u001b[0m\u001b[0m\n\u001b[0;32m----> 6\u001b[0;31m     \u001b[0mprint\u001b[0m\u001b[0;34m(\u001b[0m\u001b[0mscene_procd\u001b[0m\u001b[0;34m)\u001b[0m\u001b[0;34m\u001b[0m\u001b[0;34m\u001b[0m\u001b[0m\n\u001b[0m",
      "\u001b[0;31mNameError\u001b[0m: name 'scene_procd' is not defined"
     ]
    }
   ],
   "source": [
    "if os.path.isfile(\"scene_processing.geojson\"):\n",
    "    scene_proc = gpd.read_file(\"scene_processing.geojson\")\n",
    "    scene_proc\n",
    "else:\n",
    "    print(\"file not found\")\n",
    "    print(scene_procd)"
   ]
  },
  {
   "cell_type": "code",
   "execution_count": 75,
   "id": "9a2bba75-e2d0-4cec-9b4d-6804325adf6b",
   "metadata": {},
   "outputs": [
    {
     "name": "stdout",
     "output_type": "stream",
     "text": [
      "hi\n"
     ]
    }
   ],
   "source": [
    "\n",
    "            \n",
    "print(\"hi\")\n",
    "with suppress_stdout():\n",
    "    print(\"hio\")"
   ]
  },
  {
   "cell_type": "code",
   "execution_count": null,
   "id": "36e02195-8246-4aa8-b08e-04ef7fc52d7b",
   "metadata": {},
   "outputs": [],
   "source": []
  }
 ],
 "metadata": {
  "kernelspec": {
   "display_name": "Python 3",
   "language": "python",
   "name": "python3"
  },
  "language_info": {
   "codemirror_mode": {
    "name": "ipython",
    "version": 3
   },
   "file_extension": ".py",
   "mimetype": "text/x-python",
   "name": "python",
   "nbconvert_exporter": "python",
   "pygments_lexer": "ipython3",
   "version": "3.6.8"
  }
 },
 "nbformat": 4,
 "nbformat_minor": 5
}

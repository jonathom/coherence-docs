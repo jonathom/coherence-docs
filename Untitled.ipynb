{
 "cells": [
  {
   "cell_type": "code",
   "execution_count": null,
   "id": "81ecf48f-617e-4011-88d0-930b7caaad18",
   "metadata": {},
   "outputs": [],
   "source": [
    "# notebook to load an image pair from coregistration and compute coherence\n",
    "\n",
    "import numpy as np\n",
    "import pandas as pd\n",
    "import xarray as xr\n",
    "import rioxarray\n",
    "\n",
    "xr.open_dataset(\"/data/users/Public/jonathanbahlmann/spark_results/2021/07/02/1D7F_3785_1_5/1D7F_3785_1_5_Stack_deb.data/i_VV_slv1_02Jul2021.img\")"
   ]
  },
  {
   "cell_type": "code",
   "execution_count": null,
   "id": "f67fce8f-4182-4b21-b7ea-91841bb03823",
   "metadata": {},
   "outputs": [],
   "source": []
  },
  {
   "cell_type": "code",
   "execution_count": null,
   "id": "005091c9-0a89-48ae-b2dd-bc6408180e0b",
   "metadata": {},
   "outputs": [],
   "source": []
  }
 ],
 "metadata": {
  "kernelspec": {
   "display_name": "Python 3",
   "language": "python",
   "name": "python3"
  },
  "language_info": {
   "codemirror_mode": {
    "name": "ipython",
    "version": 3
   },
   "file_extension": ".py",
   "mimetype": "text/x-python",
   "name": "python",
   "nbconvert_exporter": "python",
   "pygments_lexer": "ipython3",
   "version": "3.6.8"
  }
 },
 "nbformat": 4,
 "nbformat_minor": 5
}
